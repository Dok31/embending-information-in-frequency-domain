{
 "cells": [
  {
   "cell_type": "code",
   "execution_count": 1,
   "outputs": [
    {
     "name": "stdout",
     "output_type": "stream",
     "text": [
      "45.81110975054546\n"
     ]
    }
   ],
   "source": [
    "from PIL import Image\n",
    "import math\n",
    "\n",
    "\n",
    "def PSNR(IMAGE_PATH, WHATERMARKED_IMAGE_PATH):\n",
    "    image = Image.open(IMAGE_PATH)\n",
    "    image_pixels = image.load()\n",
    "\n",
    "    whater_image = Image.open(WHATERMARKED_IMAGE_PATH)\n",
    "    whater_image_pixels = whater_image.load()\n",
    "    psnr = 0\n",
    "    r_mse = 0\n",
    "    g_mse = 0\n",
    "    b_mse = 0\n",
    "    r_max = -1\n",
    "    g_max = -1\n",
    "    b_max = -1\n",
    "    for i in range(image.size[0]):\n",
    "        for j in range(image.size[1]):\n",
    "            r_mse += (image_pixels[i, j][0] - whater_image_pixels[i, j][0]) ** 2\n",
    "            g_mse += (image_pixels[i, j][1] - whater_image_pixels[i, j][1]) ** 2\n",
    "            b_mse += (image_pixels[i, j][2] - whater_image_pixels[i, j][2]) ** 2\n",
    "            r_max = max(r_max, image_pixels[i, j][0])\n",
    "            g_max = max(g_max, image_pixels[i, j][1])\n",
    "            b_max = max(b_max, image_pixels[i, j][2])\n",
    "\n",
    "    psnr = 10 * math.log10(\n",
    "        (image.size[0] * image.size[1] * (r_max ** 2 + g_max ** 2 + b_max ** 2)) / (r_mse + g_mse + b_mse))\n",
    "\n",
    "    return psnr\n",
    "\n",
    "\n",
    "IMAGE_PATH = 'lena_std.tif'\n",
    "WHATERMARKED_IMAGE_PATH = 'host_image_with_whatermark.tif'\n",
    "print(PSNR(IMAGE_PATH, WHATERMARKED_IMAGE_PATH))\n"
   ],
   "metadata": {
    "collapsed": false
   }
  },
  {
   "cell_type": "code",
   "execution_count": 2,
   "outputs": [
    {
     "name": "stdout",
     "output_type": "stream",
     "text": [
      "0.9956295843261976\n"
     ]
    }
   ],
   "source": [
    "from skimage import measure\n",
    "from skimage.metrics import structural_similarity as ssim\n",
    "from PIL import Image\n",
    "import numpy as np\n",
    "\n",
    "\n",
    "def compute_ssim(image_path1, image_path2):\n",
    "    image1 = Image.open(image_path1)\n",
    "    image2 = Image.open(image_path2)\n",
    "\n",
    "    # преобразуем изображения в grayscale\n",
    "    image1_gray = image1.convert('L')\n",
    "    image2_gray = image2.convert('L')\n",
    "\n",
    "    # конвертируем изображения в массивы numpy\n",
    "    image1_array = np.array(image1_gray)\n",
    "    image2_array = np.array(image2_gray)\n",
    "\n",
    "    # вычисляем SSIM между двумя изображениями\n",
    "    ssim_index = ssim(image1_array, image2_array, data_range=image2_array.max() - image2_array.min())\n",
    "\n",
    "    return ssim_index\n",
    "\n",
    "\n",
    "IMAGE_PATH = 'lena_std.tif'\n",
    "WHATERMARKED_IMAGE_PATH = 'host_image_with_whatermark.tif'\n",
    "print(compute_ssim(IMAGE_PATH, WHATERMARKED_IMAGE_PATH))\n"
   ],
   "metadata": {
    "collapsed": false
   }
  },
  {
   "cell_type": "code",
   "execution_count": 3,
   "outputs": [
    {
     "name": "stdout",
     "output_type": "stream",
     "text": [
      "0.9997174033837051\n"
     ]
    }
   ],
   "source": [
    "from PIL import Image\n",
    "import numpy as np\n",
    "from scipy.signal import correlate2d\n",
    "\n",
    "\n",
    "def normalized_cross_coef(img1_path, img2_path):\n",
    "    # Открыть изображения и преобразовать их в массивы NumPy\n",
    "    img1 = np.array(Image.open(img1_path).convert('L'))\n",
    "    img2 = np.array(Image.open(img2_path).convert('L'))\n",
    "\n",
    "    # Вычислить средние значения пикселей изображений\n",
    "    mean1 = np.mean(img1)\n",
    "    mean2 = np.mean(img2)\n",
    "\n",
    "    # Вычислить отклонения пикселей изображений от средних значений\n",
    "    dev1 = img1 - mean1\n",
    "    dev2 = img2 - mean2\n",
    "\n",
    "    # Вычислить нормы отклонений\n",
    "    norm1 = np.sqrt(np.sum(dev1 ** 2))\n",
    "    norm2 = np.sqrt(np.sum(dev2 ** 2))\n",
    "\n",
    "    # Вычислить нормированный коэффициент кросс-корреляции\n",
    "    nc = correlate2d(dev1, dev2, mode='valid') / (norm1 * norm2)\n",
    "\n",
    "    # Вернуть значение коэффициента NC\n",
    "    return nc[0][0]\n",
    "\n",
    "\n",
    "IMAGE_PATH = 'lena_std.tif'\n",
    "WHATERMARKED_IMAGE_PATH = 'host_image_with_whatermark.tif'\n",
    "print(normalized_cross_coef(IMAGE_PATH, WHATERMARKED_IMAGE_PATH))"
   ],
   "metadata": {
    "collapsed": false
   }
  },
  {
   "cell_type": "code",
   "execution_count": 4,
   "outputs": [],
   "source": [
    "ps = [46.56671941779873, 46.198981082616285]\n",
    "ss = [0.996718203578657, 0.9962679939259572]\n",
    "nc = [0.9997623205964674, 0.9997410633991981]"
   ],
   "metadata": {
    "collapsed": false
   }
  },
  {
   "cell_type": "code",
   "execution_count": 28,
   "outputs": [
    {
     "name": "stdout",
     "output_type": "stream",
     "text": [
      "[46.56671941779873, 46.198981082616285, 45.81110975054546, 45.3933646792228, 44.94214409909841, 44.45030843638229, 43.96636537262074, 43.49589904230065, 43.03415230811627, 42.5528834892235, 42.10034497281213, 41.661419045617464, 41.244188858261325, 40.8192993777442, 40.414070139392635, 40.02528752677886, 39.65978202866498, 39.28661865788394, 38.93428892653131, 38.59256088660472]\n",
      "[0.996718203578657, 0.9962679939259572, 0.9956295843261976, 0.9948353866223818, 0.9938214293997388, 0.992589673339768, 0.9911806482541475, 0.9896312784333942, 0.9879163243772825, 0.9859686802792788, 0.9838611982391189, 0.9815999020107302, 0.9793511563504165, 0.9768008945068273, 0.9740999338381024, 0.9712932085491265, 0.9684363712017658, 0.9653729922001714, 0.9621833731648489, 0.9589170051281611]\n",
      "[0.9997623205964674, 0.9997410633991981, 0.9997174033837051, 0.9996892981814296, 0.9996576790343589, 0.9996184529619045, 0.9995756502591996, 0.9995306368921172, 0.9994818123967709, 0.9994233954554178, 0.9993629834663511, 0.9992984291689692, 0.9992324710320297, 0.9991564930650065, 0.999076930992946, 0.9989955687150373, 0.9989121233915499, 0.9988166753572338, 0.9987204479560441, 0.998620093047633]\n"
     ]
    }
   ],
   "source": [
    "ps.append(PSNR(IMAGE_PATH, WHATERMARKED_IMAGE_PATH))\n",
    "ss.append(compute_ssim(IMAGE_PATH, WHATERMARKED_IMAGE_PATH))\n",
    "nc.append(normalized_cross_coef(IMAGE_PATH, WHATERMARKED_IMAGE_PATH))\n",
    "print(ps)\n",
    "print(ss)\n",
    "print(nc)"
   ],
   "metadata": {
    "collapsed": false
   }
  },
  {
   "cell_type": "code",
   "execution_count": 24,
   "outputs": [
    {
     "name": "stdout",
     "output_type": "stream",
     "text": [
      "[46.56671941779873, 46.198981082616285, 45.81110975054546, 45.3933646792228, 44.94214409909841, 44.45030843638229, 43.96636537262074, 43.49589904230065, 43.03415230811627, 42.5528834892235, 42.10034497281213, 41.661419045617464, 41.244188858261325, 40.8192993777442, 40.414070139392635, 40.02528752677886]\n",
      "[0.996718203578657, 0.9962679939259572, 0.9956295843261976, 0.9948353866223818, 0.9938214293997388, 0.992589673339768, 0.9911806482541475, 0.9896312784333942, 0.9879163243772825, 0.9859686802792788, 0.9838611982391189, 0.9815999020107302, 0.9793511563504165, 0.9768008945068273, 0.9740999338381024, 0.9712932085491265]\n",
      "[0.9997623205964674, 0.9997410633991981, 0.9997174033837051, 0.9996892981814296, 0.9996576790343589, 0.9996184529619045, 0.9995756502591996, 0.9995306368921172, 0.9994818123967709, 0.9994233954554178, 0.9993629834663511, 0.9992984291689692, 0.9992324710320297, 0.9991564930650065, 0.999076930992946, 0.9989955687150373]\n"
     ]
    }
   ],
   "source": [
    "print(ps)\n",
    "print(ss)\n",
    "print(nc)"
   ],
   "metadata": {
    "collapsed": false
   }
  }
 ],
 "metadata": {
  "kernelspec": {
   "display_name": "Python 3",
   "language": "python",
   "name": "python3"
  },
  "language_info": {
   "codemirror_mode": {
    "name": "ipython",
    "version": 2
   },
   "file_extension": ".py",
   "mimetype": "text/x-python",
   "name": "python",
   "nbconvert_exporter": "python",
   "pygments_lexer": "ipython2",
   "version": "2.7.6"
  }
 },
 "nbformat": 4,
 "nbformat_minor": 0
}
